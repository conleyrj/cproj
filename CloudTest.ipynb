{
 "cells": [
  {
   "cell_type": "code",
   "execution_count": 84,
   "id": "dd5609d1",
   "metadata": {},
   "outputs": [],
   "source": [
    "# REMOVE WHITESPACE FROM CSV BEFORE RUNNING THIS NOTEBOOK\n",
    "import findspark\n",
    "findspark.init()\n",
    "\n",
    "import pyspark # only run after findspark.init()\n",
    "from pyspark.sql import SparkSession\n",
    "spark = SparkSession.builder.getOrCreate()\n",
    "\n",
    "from functools import reduce\n",
    "from pyspark.sql.types import *\n",
    "from pyspark.sql import *\n",
    "from pyspark.sql.functions import *\n",
    "\n",
    "# Create a dataframe for each csv\n",
    "df_household = spark.read.option(\"header\",True).csv(\"C:\\\\spark\\\\data\\\\400_households.csv\")\n",
    "df_products = spark.read.option(\"header\",True).csv(\"C:\\\\spark\\\\data\\\\400_products.csv\")\n",
    "df_transactions = spark.read.option(\"header\",True).csv(\"C:\\\\spark\\\\data\\\\400_transactions.csv\")"
   ]
  },
  {
   "cell_type": "code",
   "execution_count": 85,
   "id": "7230a661",
   "metadata": {},
   "outputs": [
    {
     "name": "stdout",
     "output_type": "stream",
     "text": [
      "root\n",
      " |-- HSHD_NUM: string (nullable = true)\n",
      " |-- L: string (nullable = true)\n",
      " |-- AGE_RANGE: string (nullable = true)\n",
      " |-- MARITAL: string (nullable = true)\n",
      " |-- INCOME_RANGE: string (nullable = true)\n",
      " |-- HOMEOWNER: string (nullable = true)\n",
      " |-- HSHD_COMPOSITION: string (nullable = true)\n",
      " |-- HH_SIZE: string (nullable = true)\n",
      " |-- CHILDREN: string (nullable = true)\n",
      "\n",
      "root\n",
      " |-- PRODUCT_NUM: string (nullable = true)\n",
      " |-- DEPARTMENT: string (nullable = true)\n",
      " |-- COMMODITY: string (nullable = true)\n",
      " |-- BRAND_TY: string (nullable = true)\n",
      " |-- NATURAL_ORGANIC_FLAG: string (nullable = true)\n",
      "\n",
      "root\n",
      " |-- BASKET_NUM: string (nullable = true)\n",
      " |-- HSHD_NUM: string (nullable = true)\n",
      " |-- PURCHASE_: string (nullable = true)\n",
      " |-- PRODUCT_NUM: string (nullable = true)\n",
      " |-- SPEND: string (nullable = true)\n",
      " |-- UNITS: string (nullable = true)\n",
      " |-- STORE_R: string (nullable = true)\n",
      " |-- WEEK_NUM: string (nullable = true)\n",
      " |-- YEAR: string (nullable = true)\n",
      "\n"
     ]
    }
   ],
   "source": [
    "# Examine schema\n",
    "df_household.printSchema()\n",
    "df_products.printSchema()\n",
    "df_transactions.printSchema()"
   ]
  },
  {
   "cell_type": "code",
   "execution_count": 86,
   "id": "b0ae686b",
   "metadata": {},
   "outputs": [],
   "source": [
    "from pyspark.sql.types import *\n",
    "# Write a custom function to convert the data type of DataFrame columns\n",
    "def convertColumn(df, names, newType):\n",
    "    for name in names: \n",
    "        df = df.withColumn(name, df[name].cast(newType))\n",
    "    return df \n",
    "# List of attributes to convert\n",
    "HOUSEHOLD_FEATURES  = ['HH_SIZE', 'CHILDREN']\n",
    "TRANSACTION_FEATURES = ['SPEND', 'UNITS']\n",
    "DATE_LIST = ['PURCHASE_']\n",
    "# Convert the types to either integer, flot or date using the convertColumn()\n",
    "df_household = convertColumn(df_household, HOUSEHOLD_FEATURES, IntegerType())\n",
    "\n",
    "df_transactions = convertColumn(df_transactions, TRANSACTION_FEATURES, FloatType())\n",
    "df_transactions = convertColumn(df_transactions, DATE_LIST, DateType())\n",
    "\n",
    "df_household = df_household.join(df_products,df_household.PRODUCT_NUM == df_products.PRODUCT_NUM,\"inner\")"
   ]
  },
  {
   "cell_type": "code",
   "execution_count": 98,
   "id": "e3f12e89",
   "metadata": {},
   "outputs": [],
   "source": [
    "# Renaming columns to get rid of ambiguity when joining under one dataframe\n",
    "df_transactions = df_transactions.withColumnRenamed(\"HSHD_NUM\", \"h\")\n",
    "df_products = df_products.withColumnRenamed(\"PRODUCT_NUM\", \"p\")\n",
    "\n",
    "# Join the tables under the houshold dataframe\n",
    "df_household = df_household.join(df_transactions,df_household.HSHD_NUM == df_transactions.h,\"inner\")\n",
    "df_household = df_household.join(df_products,df_household.PRODUCT_NUM == df_products.p,\"inner\")\n"
   ]
  },
  {
   "cell_type": "code",
   "execution_count": 99,
   "id": "9fae5e17",
   "metadata": {},
   "outputs": [
    {
     "name": "stdout",
     "output_type": "stream",
     "text": [
      "+---------+------------------+\n",
      "|AGE_RANGE| avg(count(SPEND))|\n",
      "+---------+------------------+\n",
      "|    19-24|             120.0|\n",
      "|    25-34|            115.32|\n",
      "|    35-44|159.09302325581396|\n",
      "|    45-54| 82.94520547945206|\n",
      "|    55-64| 58.21333333333333|\n",
      "|    65-74|              84.0|\n",
      "|      75+|46.733333333333334|\n",
      "|     null|            68.125|\n",
      "+---------+------------------+\n",
      "\n"
     ]
    }
   ],
   "source": [
    "# Create a dataframe to represent Organic products pruchased\n",
    "df_organic = df_household.filter(col(\"NATURAL_ORGANIC_FLAG\").like(\"Y\"))\n",
    "\n",
    "# Count the organic products purchased by each age range in a household\n",
    "df_organic_age = df_organic.groupBy('AGE_RANGE', 'HSHD_NUM').agg({'SPEND' : 'count'})\n",
    "# Get and average of the counts for each age range\n",
    "df_avg_organic_trans_by_age = df_organic_age.groupBy('AGE_RANGE').agg({'count(SPEND)' : 'avg'})\n",
    "# Sort by age range\n",
    "df_avg_organic_trans_by_age.orderBy('AGE_RANGE').show()"
   ]
  },
  {
   "cell_type": "code",
   "execution_count": 100,
   "id": "fbe129c4",
   "metadata": {},
   "outputs": [
    {
     "name": "stdout",
     "output_type": "stream",
     "text": [
      "+------------+------------------+\n",
      "|INCOME_RANGE| avg(count(SPEND))|\n",
      "+------------+------------------+\n",
      "|    100-150K| 92.91304347826087|\n",
      "|       150K+|             159.4|\n",
      "|      35-49K| 48.75925925925926|\n",
      "|      50-74K| 76.46666666666667|\n",
      "|      75-99K| 138.5681818181818|\n",
      "|    UNDER35K|51.333333333333336|\n",
      "|        null|             69.22|\n",
      "+------------+------------------+\n",
      "\n"
     ]
    }
   ],
   "source": [
    "# Repeated but with income range\n",
    "df_organic_income = df_organic.groupBy('INCOME_RANGE', 'HSHD_NUM').agg({'SPEND' : 'count'})\n",
    "df_avg_organic_trans_by_income = df_organic_income.groupBy('INCOME_RANGE').agg({'count(SPEND)' : 'avg'})\n",
    "df_avg_organic_trans_by_income.orderBy('INCOME_RANGE').show()"
   ]
  },
  {
   "cell_type": "code",
   "execution_count": 101,
   "id": "5d512f2f",
   "metadata": {},
   "outputs": [
    {
     "name": "stdout",
     "output_type": "stream",
     "text": [
      "+---------+------------------+\n",
      "|AGE_RANGE| avg(count(SPEND))|\n",
      "+---------+------------------+\n",
      "|    19-24|           2654.75|\n",
      "|    25-34|           2543.25|\n",
      "|    35-44| 2954.176470588235|\n",
      "|    45-54|2298.9302325581393|\n",
      "|    55-64|2100.1529411764704|\n",
      "|    65-74|2094.9811320754716|\n",
      "|      75+|            2206.0|\n",
      "|     null|2158.4918032786886|\n",
      "+---------+------------------+\n",
      "\n"
     ]
    }
   ],
   "source": [
    "# Get all products, regardless of organic status for age range attribute\n",
    "df_all_age = df_household.groupBy('AGE_RANGE', 'HSHD_NUM').agg({'SPEND' : 'count'})\n",
    "df_avg_all_trans_by_age = df_all_age.groupBy('AGE_RANGE').agg({'count(SPEND)' : 'avg'})\n",
    "df_avg_all_trans_by_age.orderBy('AGE_RANGE').show()"
   ]
  },
  {
   "cell_type": "code",
   "execution_count": 102,
   "id": "b48b8781",
   "metadata": {},
   "outputs": [
    {
     "name": "stdout",
     "output_type": "stream",
     "text": [
      "+------------+------------------+\n",
      "|INCOME_RANGE| avg(count(SPEND))|\n",
      "+------------+------------------+\n",
      "|    100-150K| 2036.851851851852|\n",
      "|       150K+| 2462.470588235294|\n",
      "|      35-49K|        2423.65625|\n",
      "|      50-74K|2347.8690476190477|\n",
      "|      75-99K| 2368.823529411765|\n",
      "|    UNDER35K|            2402.5|\n",
      "|        null|2105.5272727272727|\n",
      "+------------+------------------+\n",
      "\n"
     ]
    }
   ],
   "source": [
    "# Get all products, regardless of organic status for income range attribute\n",
    "df_all_income = df_household.groupBy('INCOME_RANGE', 'HSHD_NUM').agg({'SPEND' : 'count'})\n",
    "df_avg_all_trans_by_income = df_all_income.groupBy('INCOME_RANGE').agg({'count(SPEND)' : 'avg'})\n",
    "df_avg_all_trans_by_income.orderBy('INCOME_RANGE').show()"
   ]
  },
  {
   "cell_type": "code",
   "execution_count": 112,
   "id": "5b5f9c14",
   "metadata": {},
   "outputs": [
    {
     "name": "stdout",
     "output_type": "stream",
     "text": [
      "+-------+-----------------+\n",
      "|MARITAL|avg(count(SPEND))|\n",
      "+-------+-----------------+\n",
      "|Married|          88.0875|\n",
      "| Single|83.41044776119404|\n",
      "|   null|75.98305084745763|\n",
      "+-------+-----------------+\n",
      "\n",
      "+---------+-----------------+\n",
      "|HOMEOWNER|avg(count(SPEND))|\n",
      "+---------+-----------------+\n",
      "|Homeowner|       90.7578125|\n",
      "|   Renter|57.75757575757576|\n",
      "|     null|         72.09375|\n",
      "+---------+-----------------+\n",
      "\n"
     ]
    }
   ],
   "source": [
    "# Additional queries examined to look for conclusions to draw\n",
    "\n",
    "#Marital status\n",
    "df_organic_marital = df_organic.groupBy('MARITAL', 'HSHD_NUM').agg({'SPEND' : 'count'})\n",
    "df_avg_organic_trans_by_marital = df_organic_marital.groupBy('MARITAL').agg({'count(SPEND)' : 'avg'})\n",
    "df_avg_organic_trans_by_marital.orderBy('MARITAL').show()\n",
    "\n",
    "# By homeowner\n",
    "df_organic_homeowner = df_organic.groupBy('HOMEOWNER', 'HSHD_NUM').agg({'SPEND' : 'count'})\n",
    "df_avg_organic_trans_by_homeowner = df_organic_homeowner.groupBy('HOMEOWNER').agg({'count(SPEND)' : 'avg'})\n",
    "df_avg_organic_trans_by_homeowner.orderBy('HOMEOWNER').show()"
   ]
  }
 ],
 "metadata": {
  "kernelspec": {
   "display_name": "Python 3 (ipykernel)",
   "language": "python",
   "name": "python3"
  },
  "language_info": {
   "codemirror_mode": {
    "name": "ipython",
    "version": 3
   },
   "file_extension": ".py",
   "mimetype": "text/x-python",
   "name": "python",
   "nbconvert_exporter": "python",
   "pygments_lexer": "ipython3",
   "version": "3.9.13"
  }
 },
 "nbformat": 4,
 "nbformat_minor": 5
}
